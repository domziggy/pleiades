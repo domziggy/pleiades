{
 "cells": [
  {
   "cell_type": "markdown",
   "source": [
    "# Pleiades Grey Paper\r\n",
    "## An interactive data exploration framework\r\n",
    "<p>By: Dominic Zygadlo</p>"
   ],
   "metadata": {}
  },
  {
   "cell_type": "code",
   "execution_count": 7,
   "source": [
    "from pandas.core.tools import numeric\r\n",
    "import scipy.stats as st\r\n",
    "from backEnd import plots\r\n",
    "from palmerpenguins import load_penguins\r\n",
    "import importlib\r\n",
    "\r\n",
    "\r\n",
    "# Colors\r\n",
    "BG_WHITE = \"#fbf9f4\"\r\n",
    "GREY_LIGHT = \"#b4aea9\"\r\n",
    "GREY50 = \"#7F7F7F\"\r\n",
    "BLUE_DARK = \"#1B2838\"\r\n",
    "BLUE = \"#2a475e\"\r\n",
    "BLACK = \"#282724\"\r\n",
    "GREY_DARK = \"#747473\"\r\n",
    "RED_DARK = \"#850e00\"\r\n",
    "\r\n",
    "# Colors taken from Dark2 palette in RColorBrewer R library\r\n",
    "COLOR_SCALE = [\"#1B9E77\", \"#D95F02\", \"#7570B3\"]\r\n",
    "\r\n",
    "# Horizontal lines\r\n",
    "HLINES = [40, 50, 60]"
   ],
   "outputs": [],
   "metadata": {}
  },
  {
   "cell_type": "markdown",
   "source": [
    "Begin with the importing of data returning basic statistics about each feature."
   ],
   "metadata": {}
  },
  {
   "cell_type": "code",
   "execution_count": null,
   "source": [
    "penguins = load_penguins()\r\n",
    "column_types = penguins.dtypes\r\n",
    "\r\n",
    "# function to return boolean depending on whether column type is qualitative or quantiative\r\n",
    "def isQualitative(column):\r\n",
    "    if column_types.loc[column] == 'object':\r\n",
    "        return True\r\n",
    "    else:\r\n",
    "        return False\r\n",
    "\r\n",
    "def summaryDictionary(column):\r\n",
    "    if isQualitative(column):\r\n",
    "        return {\r\n",
    "            'Number of Total Values:\\t\\t': penguins[column].count(),\r\n",
    "            'Number of Null Values:\\t\\t': penguins[column].isnull().sum(),\r\n",
    "            'Number of Unique Values:\\t': penguins[column].nunique(),\r\n",
    "            'Unique Values:\\t\\t\\t': penguins[column].unique(),\r\n",
    "            'Unique Counts:\\t\\t\\t': penguins[column].value_counts(dropna=False).to_numpy(),\r\n",
    "            'Mode:\\t\\t\\t\\t': penguins[column].mode().loc[0],\r\n",
    "        }\r\n",
    "    else:\r\n",
    "        return {\r\n",
    "            'Number of Total Values:\\t\\t': penguins[column].count(),\r\n",
    "            'Number of Null Values:\\t\\t': penguins[column].isnull().sum(),\r\n",
    "            'Number of Unique Values:\\t': penguins[column].nunique(),\r\n",
    "            'Mode:\\t\\t\\t\\t': penguins[column].mode().loc[0],\r\n",
    "            'Mean:\\t\\t\\t\\t': penguins[column].mean(),\r\n",
    "            'Median:\\t\\t\\t\\t': penguins[column].quantile(q=0.5),\r\n",
    "            'Standard Deviation:\\t\\t': penguins[column].std(),\r\n",
    "            '25th Quantile:\\t\\t\\t': penguins[column].quantile(q=0.25),\r\n",
    "            '75th Quantile\\t\\t\\t': penguins[column].quantile(q=0.75),\r\n",
    "            'Minimum:\\t\\t\\t': penguins[column].min(),\r\n",
    "            'Maximum:\\t\\t\\t': penguins[column].max(),\r\n",
    "        }\r\n",
    "\r\n",
    "def printSummary(column):\r\n",
    "    s_dict = summaryDictionary(column)\r\n",
    "    print(column+': '+str(penguins[column].dtype))\r\n",
    "    for key in s_dict:\r\n",
    "        print(key, s_dict[key])\r\n",
    "    print('\\n')\r\n",
    "    \r\n",
    "# printSummary('sex')\r\n",
    "# printSummary('bill_length_mm')"
   ],
   "outputs": [],
   "metadata": {}
  },
  {
   "cell_type": "markdown",
   "source": [
    "Next, we generate histograms and density plots for each of the features. "
   ],
   "metadata": {}
  },
  {
   "cell_type": "code",
   "execution_count": 6,
   "source": [
    "importlib.reload(plots)\r\n",
    "fig = plots.densityPlot(penguins, 'bill_length_mm')\r\n",
    "fig.show()"
   ],
   "outputs": [
    {
     "output_type": "error",
     "ename": "TypeError",
     "evalue": "densityPlot() takes 0 positional arguments but 2 were given",
     "traceback": [
      "\u001b[1;31m---------------------------------------------------------------------------\u001b[0m",
      "\u001b[1;31mTypeError\u001b[0m                                 Traceback (most recent call last)",
      "\u001b[1;32m~\\AppData\\Local\\Temp/ipykernel_17288/705178259.py\u001b[0m in \u001b[0;36m<module>\u001b[1;34m\u001b[0m\n\u001b[1;32m----> 1\u001b[1;33m \u001b[0mfig\u001b[0m \u001b[1;33m=\u001b[0m \u001b[0mplots\u001b[0m\u001b[1;33m.\u001b[0m\u001b[0mdensityPlot\u001b[0m\u001b[1;33m(\u001b[0m\u001b[0mpenguins\u001b[0m\u001b[1;33m,\u001b[0m \u001b[1;34m'bill_length_mm'\u001b[0m\u001b[1;33m)\u001b[0m\u001b[1;33m\u001b[0m\u001b[1;33m\u001b[0m\u001b[0m\n\u001b[0m\u001b[0;32m      2\u001b[0m \u001b[0mfig\u001b[0m\u001b[1;33m.\u001b[0m\u001b[0mshow\u001b[0m\u001b[1;33m(\u001b[0m\u001b[1;33m)\u001b[0m\u001b[1;33m\u001b[0m\u001b[1;33m\u001b[0m\u001b[0m\n",
      "\u001b[1;31mTypeError\u001b[0m: densityPlot() takes 0 positional arguments but 2 were given"
     ]
    }
   ],
   "metadata": {}
  }
 ],
 "metadata": {
  "orig_nbformat": 4,
  "language_info": {
   "name": "python",
   "version": "3.7.10",
   "mimetype": "text/x-python",
   "codemirror_mode": {
    "name": "ipython",
    "version": 3
   },
   "pygments_lexer": "ipython3",
   "nbconvert_exporter": "python",
   "file_extension": ".py"
  },
  "kernelspec": {
   "name": "python3",
   "display_name": "Python 3.7.10 64-bit ('py3.7': conda)"
  },
  "interpreter": {
   "hash": "147d6594cb7c765e1e3144fb7101590e4db8bc35e6da7471d27fa7244b54f013"
  }
 },
 "nbformat": 4,
 "nbformat_minor": 2
}