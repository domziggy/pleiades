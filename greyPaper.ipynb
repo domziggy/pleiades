{
 "cells": [
  {
   "cell_type": "markdown",
   "source": [
    "# Pleiades Grey Paper\r\n",
    "## An interactive data exploration framework\r\n",
    "<p>By: Dominic Zygadlo</p>"
   ],
   "metadata": {}
  },
  {
   "cell_type": "markdown",
   "source": [
    "import dependencies"
   ],
   "metadata": {}
  },
  {
   "cell_type": "code",
   "execution_count": null,
   "source": [
    "import scipy.stats as st\r\n",
    "from backEnd import plots\r\n",
    "from palmerpenguins import load_penguins\r\n",
    "import importlib"
   ],
   "outputs": [],
   "metadata": {}
  },
  {
   "cell_type": "markdown",
   "source": [
    "Begin with the importing of data returning basic statistics about each feature. If there are missing values, we will need to remove those rows accordingly. As you can see by the example output, this method deletes 7 extra rows from bill_length_mm. This is acceptable as the training data should be consistent. These dropped rows may be utilized for additional insight or as potential test cases. We are also convertiner integer data to string format because the year data in this case is qualitative."
   ],
   "metadata": {}
  },
  {
   "cell_type": "code",
   "execution_count": null,
   "source": [
    "\r\n",
    "penguins = load_penguins()\r\n",
    "penguins = penguins.dropna()\r\n",
    "penguins['year'] = penguins['year'].astype(str)"
   ],
   "outputs": [],
   "metadata": {}
  },
  {
   "cell_type": "markdown",
   "source": [
    "Next, we display all descriptive tables and plots for each of the features. "
   ],
   "metadata": {}
  },
  {
   "cell_type": "code",
   "execution_count": null,
   "source": [
    "importlib.reload(plots)\r\n",
    "for column in penguins.columns:\r\n",
    "    plots.descriptiveStatistics(penguins, column).show()"
   ],
   "outputs": [],
   "metadata": {}
  },
  {
   "cell_type": "markdown",
   "source": [
    "Intitial exploratory findings:<br>\r\n",
    "<ol>\r\n",
    "<li>Species<ol>\r\n",
    "<li>Adelie and Gentoo dominate proporionally in comparison to Chinstrap penguins</li></ol></li>\r\n",
    "<li>Island<ol>\r\n",
    "<li>Even more so, Torgersen and Biscoe dominate proportionally in comparison to Dream penguins</li></ol></li>\r\n",
    "<li>Bill Length (mm)<ol>\r\n",
    "<li>Across the entire dataset this feature appears to be a rougly bimodal distribution with peaks around 40 and 50</li></ol></li>\r\n",
    "<li>Bill Depth (mm)<ol>\r\n",
    "<li>Appears fairly uniform with the exception of additional frequency being observed around 19mm</li></ol></li>\r\n",
    "<li>Flipper Length (mm)<ol>\r\n",
    "<li>Similar to Bill Length, this feature appears to be a bimodal distribution with peaks around 90 and 115</li></ol></li>\r\n",
    "<li>Body Mass (g)<ol>\r\n",
    "<li>Our most normal distributed variable yet, this one is skewed to the right, however not drastically</li></ol></li>\r\n",
    "<li>Sex<ol>\r\n",
    "<li>Fairly even split between female and male penguins</li></ol></li>\r\n",
    "<li>Year<ol>\r\n",
    "<li>Years are also evenly split between 2007, 2008, and 2009</li></ol></li></ol><br>\r\n",
    "Now let us explore the continous variables under each categorical variable to reveal potentially hidden pattens that are not visible at this stage."
   ],
   "metadata": {}
  },
  {
   "cell_type": "code",
   "execution_count": 87,
   "source": [
    "importlib.reload(plots)\r\n",
    "quantitative = [column for column in penguins.columns if not plots.isQualitative(penguins, column)]\r\n",
    "qualititative = [column for column in penguins.columns if plots.isQualitative(penguins, column)]\r\n",
    "for feature in quantitative:\r\n",
    "    plots.descriptiveDistributions(penguins, feature, qualititative).show()"
   ],
   "outputs": [],
   "metadata": {}
  }
 ],
 "metadata": {
  "orig_nbformat": 4,
  "language_info": {
   "name": "python",
   "version": "3.7.10",
   "mimetype": "text/x-python",
   "codemirror_mode": {
    "name": "ipython",
    "version": 3
   },
   "pygments_lexer": "ipython3",
   "nbconvert_exporter": "python",
   "file_extension": ".py"
  },
  "kernelspec": {
   "name": "python3",
   "display_name": "Python 3.7.10 64-bit ('py3.7': conda)"
  },
  "interpreter": {
   "hash": "147d6594cb7c765e1e3144fb7101590e4db8bc35e6da7471d27fa7244b54f013"
  }
 },
 "nbformat": 4,
 "nbformat_minor": 2
}