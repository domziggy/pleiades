{
 "cells": [
  {
   "cell_type": "markdown",
   "source": [
    "# Pleiades Grey Paper\r\n",
    "## An interactive data exploration framework\r\n",
    "<p>By: Dominic Zygadlo</p>"
   ],
   "metadata": {}
  },
  {
   "cell_type": "markdown",
   "source": [
    "import dependencies"
   ],
   "metadata": {}
  },
  {
   "cell_type": "code",
   "execution_count": null,
   "source": [
    "import scipy.stats as st\r\n",
    "from backEnd import plots\r\n",
    "from palmerpenguins import load_penguins\r\n",
    "import importlib"
   ],
   "outputs": [],
   "metadata": {}
  },
  {
   "cell_type": "markdown",
   "source": [
    "Begin with the importing of data returning basic statistics about each feature. If there are missing values, we will need to remove those rows accordingly."
   ],
   "metadata": {}
  },
  {
   "cell_type": "code",
   "execution_count": null,
   "source": [
    "\r\n",
    "penguins = load_penguins()\r\n",
    "penguins = penguins.dropna()"
   ],
   "outputs": [],
   "metadata": {}
  },
  {
   "cell_type": "markdown",
   "source": [
    "Next, we display all descriptive tables and plots for each of the features. "
   ],
   "metadata": {}
  },
  {
   "cell_type": "code",
   "execution_count": null,
   "source": [
    "importlib.reload(plots)\r\n",
    "for column in penguins.columns:\r\n",
    "    plots.descriptiveStatistics(penguins, column).show()"
   ],
   "outputs": [],
   "metadata": {}
  },
  {
   "cell_type": "markdown",
   "source": [
    "Now, we display all of the descriptive distributions for each of the continuous features (i.e. displaying numerical features with categorical subgroups)"
   ],
   "metadata": {}
  },
  {
   "cell_type": "code",
   "execution_count": null,
   "source": [
    "importlib.reload(plots)\r\n",
    "quantitative = [column for column in penguins.columns if not plots.isQualitative(penguins, column)]\r\n",
    "qualititative = [column for column in penguins.columns if plots.isQualitative(penguins, column)]\r\n",
    "for feature in quantitative:\r\n",
    "    plots.descriptiveDistributions(penguins, feature, qualititative).show()"
   ],
   "outputs": [],
   "metadata": {}
  },
  {
   "cell_type": "markdown",
   "source": [
    "Afterwards, we display heat maps to visualize the correlation coefficients for each of the feature combinations."
   ],
   "metadata": {}
  },
  {
   "cell_type": "code",
   "execution_count": null,
   "source": [],
   "outputs": [],
   "metadata": {}
  }
 ],
 "metadata": {
  "orig_nbformat": 4,
  "language_info": {
   "name": "python",
   "version": "3.7.10",
   "mimetype": "text/x-python",
   "codemirror_mode": {
    "name": "ipython",
    "version": 3
   },
   "pygments_lexer": "ipython3",
   "nbconvert_exporter": "python",
   "file_extension": ".py"
  },
  "kernelspec": {
   "name": "python3",
   "display_name": "Python 3.7.10 64-bit ('py3.7': conda)"
  },
  "interpreter": {
   "hash": "147d6594cb7c765e1e3144fb7101590e4db8bc35e6da7471d27fa7244b54f013"
  }
 },
 "nbformat": 4,
 "nbformat_minor": 2
}